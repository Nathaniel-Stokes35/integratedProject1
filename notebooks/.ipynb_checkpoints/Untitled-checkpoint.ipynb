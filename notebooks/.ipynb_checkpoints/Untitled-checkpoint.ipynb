{
 "cells": [
  {
   "cell_type": "markdown",
   "id": "84d57bf5",
   "metadata": {},
   "source": [
    "<h1>Intergrated Project 1 (EDA Notebook)</h1>"
   ]
  },
  {
   "cell_type": "markdown",
   "id": "1b71621d",
   "metadata": {},
   "source": [
    "<h2>Introduction</h2></br>\n",
    "&nbsp;&nbsp;&nbsp;&nbsp;Using exploratory data analysis I am going to analyze a dataset of ESRB rated games, their sales from 2016 and, hypthetically, construct common trends to help predict the marketing for 2017 game launches. My goal is to help spot \"big winners\" for advertising plans.</br>\n",
    "&nbsp;&nbsp;&nbsp;&nbsp;I will be analyzing preformance of games across platforms and regions of the world, comparing user reviews with professional reviews and overall game sales. I will be comparing those findings to orchastrate a hypotheses and then constructing tests against them. I will be formulating graphs to better visualize the data leaving comments to keep everything organized and easy to read. "
   ]
  },
  {
   "cell_type": "markdown",
   "id": "f515d73f",
   "metadata": {},
   "source": [
    "<h2>Initalization</h2>\n",
    "<ul><li>importing dependencies for librarys used</li></ul>"
   ]
  },
  {
   "cell_type": "code",
   "execution_count": 4,
   "id": "7032b460",
   "metadata": {},
   "outputs": [],
   "source": [
    "# Formating and inturpretting the Data\n",
    "import pandas as pd\n",
    "import numpy as np\n",
    "import scipy.stats as st\n",
    "\n",
    "# Creating and Displaying Interactive Graphs \n",
    "import matplotlib.pyplot as plt \n",
    "from matplotlib.widgets import CheckButtons \n",
    "from ipywidgets import widgets \n",
    "from IPython.display import display\n",
    "import seaborn as sns "
   ]
  },
  {
   "cell_type": "markdown",
   "id": "08871f4f",
   "metadata": {},
   "source": [
    "<h3>Cleaning the Data</h3>\n",
    "<ol>\n",
    "    <li>Studying and organizing the data</li>\n",
    "    <li>Converting data-types and reading the information</li>\n",
    "    <li>Organizing data by year and finding the most relevant period to analyze</li>\n",
    "</ol>"
   ]
  },
  {
   "cell_type": "code",
   "execution_count": 5,
   "id": "876a13b2",
   "metadata": {},
   "outputs": [],
   "source": [
    "#--- Reading the Data ---\n",
    "rawDF = pd.read_csv('../datasets/games.csv')\n",
    "# Missing: ~300 years, 8k critic scores, 6k user scores, ~7k ratings, a couple names(?)\n",
    "\n",
    "# lowercasing all column names\n",
    "rawDF.columns = [col.lower() for col in rawDF.columns]\n",
    "\n",
    "# Handeling missing values and 'tbd'\n",
    "rawDF['year_of_release'] = rawDF['year_of_release'].fillna('0').astype('int')\n",
    "    # setting the year as 0 allows me to work with the data in a more intuitive, unobstructive, way \n",
    "rawDF.loc[rawDF['user_score'] == 'tbd', 'user_score'] = np.nan\n",
    "    # Setting the to be determined scores as missing values to be handled as such\n",
    "rawDF['user_score'] = rawDF['user_score'].astype('float')\n",
    "    # setting all of the userscores to a float to help with calculation later\n",
    "    \n",
    "# Adding a \"total sales\" column to help analyze profitability for each platform/game\n",
    "rawDF['total_sales'] = rawDF['na_sales'] + rawDF['eu_sales'] + rawDF['jp_sales']    \n",
    "\n",
    "# splitting the data into the most recent (10 years) games for a healthy data set of 10k+ listings\n",
    "sortDF = rawDF[rawDF['year_of_release']>=2006]\n",
    "genres = sortDF['genre'].unique()\n",
    "\n",
    "# This will fill the missing \"user_scores\" and \"critic_scores\" with the mean of the non-null scores in each genre\n",
    "genresData = {} # Initializing the Mother Dictionary for the individual Genre Dataframes\n",
    "for genre in sortDF['genre'].unique():\n",
    "    # Create a copy of the DataFrame for the current genre\n",
    "    genreDF = sortDF[sortDF['genre'] == genre].copy()\n",
    "    \n",
    "    # Calculate mean of non-null 'user_score' and 'critic_score'\n",
    "    user_mean = round(genreDF['user_score'].mean(), 1)\n",
    "    critic_mean = round(genreDF['critic_score'].mean(), 1)\n",
    "    \n",
    "    # Fill missing 'user_score' and 'critic_score' with the respective means\n",
    "    genreDF.loc[:, 'user_score'] = genreDF['user_score'].fillna(user_mean)\n",
    "    genreDF.loc[:, 'critic_score'] = genreDF['critic_score'].fillna(critic_mean)\n",
    "    \n",
    "    # Store the modified DataFrame in the dictionary with genre as the key\n",
    "    genresData[genre] = genreDF"
   ]
  },
  {
   "cell_type": "markdown",
   "id": "67234001",
   "metadata": {},
   "source": [
    "<h4>Findings</h4>\n",
    "&nbsp;&nbsp;&nbsp;&nbsp;I used the means of each genre in user_scores and critic scores to have a more tailored generalization and because I noticed the user and critic score weren't heavy indicators on game preformance. I also found that the age of a game was a bigger determiner on preformance with a more varying degree of sucess the newer the model. Identfying that with over 10k listings going back 10 years of the data; that was the period I will use as my model."
   ]
  },
  {
   "cell_type": "markdown",
   "id": "8c005a07",
   "metadata": {},
   "source": [
    "<h3>Analyzing the Data</h3>\n",
    "<ol>\n",
    "    <li>Group by different factors to understand their affect on sales\n",
    "        <ul>\n",
    "            <li>Sales varied per platform (choose platform with the most and build a distribution)</li>\n",
    "            <li>Selecting several potentially profitable platforms</li>\n",
    "        </ul>\n",
    "    </li>\n",
    "    <li>Box Plot for Global Sales broken down by platform.</li>\n",
    "    <li>Scatter Plot calculating correlation between reviews and sales</li>\n",
    "    <li>Compare same games between platforms</li>\n",
    "    <li>Most profitable Genres</li>\n",
    "</ol>"
   ]
  },
  {
   "cell_type": "code",
   "execution_count": 6,
   "id": "8c125eae",
   "metadata": {
    "scrolled": true
   },
   "outputs": [
    {
     "data": {
      "image/png": "[encoded data removed]",
      "text/plain": [
       "<Figure size 1000x600 with 1 Axes>"
      ]
     },
     "metadata": {},
     "output_type": "display_data"
    },
    {
     "data": {
      "application/vnd.jupyter.widget-view+json": {
       "model_id": "283ec066987845d8ba6875d14165c896",
       "version_major": 2,
       "version_minor": 0
      },
      "text/plain": [
       "interactive(children=(Dropdown(description='Platform:', options=('Wii', 'DS', 'X360', 'PS3', 'PS4', '3DS', 'PC…"
      ]
     },
     "metadata": {},
     "output_type": "display_data"
    },
    {
     "data": {
      "text/plain": [
       "<function __main__.platformGraph(plat)>"
      ]
     },
     "execution_count": 6,
     "metadata": {},
     "output_type": "execute_result"
    }
   ],
   "source": [
    "# Creating an interactive graph for platform sales and year of release\n",
    "platforms = sortDF['platform'].unique()\n",
    "\n",
    "def platformGraph(plat):\n",
    "    graphData = sortDF[sortDF['platform'] == plat]\n",
    "    plt.figure(figsize=(10, 6))\n",
    "    plt.hist(graphData['total_sales'], bins=20, edgecolor='k', alpha=0.7)\n",
    "    plt.title(f'Total Sales Distribution for {plat}')\n",
    "    plt.xlabel('Total Sales')\n",
    "    plt.ylabel('Frequency')\n",
    "    plt.grid(True)\n",
    "    plt.show()\n",
    "\n",
    "widgets.interact(platformGraph, plat=widgets.Dropdown(options=platforms, description=\"Platform:\"))"
   ]
  }
 ],
 "metadata": {
  "kernelspec": {
   "display_name": "Python (projectENV)",
   "language": "python",
   "name": "projectenv"
  },
  "language_info": {
   "codemirror_mode": {
    "name": "ipython",
    "version": 3
   },
   "file_extension": ".py",
   "mimetype": "text/x-python",
   "name": "python",
   "nbconvert_exporter": "python",
   "pygments_lexer": "ipython3",
   "version": "3.12.3"
  }
 },
 "nbformat": 4,
 "nbformat_minor": 5
}
